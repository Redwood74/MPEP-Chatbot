{
 "cells": [
  {
   "cell_type": "code",
   "execution_count": 16,
   "metadata": {},
   "outputs": [],
   "source": [
    "from selenium import webdriver\n",
    "from selenium.webdriver.common.by import By\n",
    "from selenium.webdriver.support.ui import WebDriverWait\n",
    "from selenium.webdriver.support import expected_conditions as EC\n",
    "from selenium.webdriver.chrome.service import Service\n",
    "import time\n",
    "import os\n",
    "\n",
    "\n",
    "\n",
    "scraper for RDMS website to HTML files\n",
    "    \n",
    "each chapter is one file\n",
    "\n",
    "configuration of selenium webdriver is needed to run this code\n",
    "\n"
   ]
  },
  {
   "cell_type": "code",
   "execution_count": 17,
   "metadata": {},
   "outputs": [],
   "source": [
    "chromedriver_path ='C:\\\\chrome-testing\\\\chromedriver-win64\\\\chromedriver.exe' #change this path for your environment\n",
    "\n",
    "service = Service(chromedriver_path)\n",
    "\n",
    "driver = webdriver.Chrome(service=service)"
   ]
  },
  {
   "cell_type": "code",
   "execution_count": 18,
   "metadata": {},
   "outputs": [],
   "source": [
    "def save_html(driver, filename):\n",
    "    \"\"\"Save the current page's HTML to a file.\"\"\"\n",
    "    html_content = driver.page_source\n",
    "    with open(filename, 'w', encoding='utf-8') as file:\n",
    "        file.write(html_content)\n",
    "\n",
    "def download_chapter_htmls(base_url, chromedriver_path):\n",
    "    service = Service(chromedriver_path)\n",
    "    \n",
    "    options = webdriver.ChromeOptions()\n",
    "    options.add_argument('--ignore-certificate-errors')\n",
    "    driver = webdriver.Chrome(service=service, options=options)\n",
    "\n",
    "    try:\n",
    "        driver.get(base_url)\n",
    "\n",
    "        WebDriverWait(driver, 10).until(\n",
    "            EC.presence_of_element_located((By.ID, \"manual\"))\n",
    "        )\n",
    "\n",
    "        chapters = driver.find_elements(By.CSS_SELECTOR, \"#manual li a\")\n",
    "        links_and_names = [(chapter.get_attribute('href'), chapter.text.strip()) for chapter in chapters if chapter.get_attribute('href')]\n",
    "\n",
    "        if not os.path.exists('MPEP_HTML'):\n",
    "            os.makedirs('MPEP_HTML')\n",
    "\n",
    "        for link, name in links_and_names:\n",
    "            driver.get(link)\n",
    "            time.sleep(3)  \n",
    "            \n",
    "            valid_name = ''.join(c for c in name if c.isalnum() or c.isspace()).strip()\n",
    "            \n",
    "            save_html(driver, f'MPEP_HTML/{valid_name}.html')\n",
    "\n",
    "    finally:\n",
    "        driver.quit()\n",
    "\n",
    "download_chapter_htmls('https://mpep.uspto.gov/RDMS/MPEP/current', chromedriver_path)"
   ]
  }
 ],
 "metadata": {
  "kernelspec": {
   "display_name": "mpepenv",
   "language": "python",
   "name": "python3"
  },
  "language_info": {
   "codemirror_mode": {
    "name": "ipython",
    "version": 3
   },
   "file_extension": ".py",
   "mimetype": "text/x-python",
   "name": "python",
   "nbconvert_exporter": "python",
   "pygments_lexer": "ipython3",
   "version": "3.9.19"
  }
 },
 "nbformat": 4,
 "nbformat_minor": 2
}
